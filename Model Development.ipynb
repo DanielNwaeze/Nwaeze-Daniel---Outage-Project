{
 "cells": [
  {
   "cell_type": "code",
   "execution_count": 1,
   "id": "167c3f3a",
   "metadata": {},
   "outputs": [],
   "source": [
    "import pandas as pd\n",
    "complete_data = pd.read_csv('complete_data-edit.csv')\n",
    "complete_data['Outage'] = complete_data['Category'].apply(lambda x: 0 if pd.isna(x) else 1)\n",
    "relevant_columns = [\n",
    "    'Date', 'Branch', 'Location', 'Feeder', 'Category', 'Fault', 'Areas Affected', 'Peak Generation',\n",
    "    'Daily Energy Generation', 'Lowest Energy Generation', 'Daily Energy Sent', '6:00 Generation',\n",
    "    'Highest System Frequency', 'Lowest System Frequency', 'Highest Voltage Recorded', 'Lowest Voltage Recorded',\n",
    "    'temp', 'humidity',\n",
    "    'precip', 'precipprob', 'precipcover', 'windgust', 'windspeed', 'winddir', 'sealevelpressure',\n",
    "    'cloudcover', 'visibility', 'solarradiation', 'solarenergy', 'uvindex',\n",
    "    'conditions', 'description', 'icon', 'feelslike', 'Outage'\n",
    "]\n",
    "\n",
    "initial_data = complete_data[relevant_columns]"
   ]
  },
  {
   "cell_type": "code",
   "execution_count": 2,
   "id": "b3176b61",
   "metadata": {},
   "outputs": [
    {
     "name": "stderr",
     "output_type": "stream",
     "text": [
      "/var/folders/dp/fn2v5z3x7pj63xx0j5wvqjvm0000gp/T/ipykernel_32375/2117579228.py:3: SettingWithCopyWarning: \n",
      "A value is trying to be set on a copy of a slice from a DataFrame.\n",
      "Try using .loc[row_indexer,col_indexer] = value instead\n",
      "\n",
      "See the caveats in the documentation: https://pandas.pydata.org/pandas-docs/stable/user_guide/indexing.html#returning-a-view-versus-a-copy\n",
      "  df['Date'] = pd.to_datetime(df['Date'])\n",
      "/var/folders/dp/fn2v5z3x7pj63xx0j5wvqjvm0000gp/T/ipykernel_32375/2117579228.py:27: SettingWithCopyWarning: \n",
      "A value is trying to be set on a copy of a slice from a DataFrame.\n",
      "Try using .loc[row_indexer,col_indexer] = value instead\n",
      "\n",
      "See the caveats in the documentation: https://pandas.pydata.org/pandas-docs/stable/user_guide/indexing.html#returning-a-view-versus-a-copy\n",
      "  df['OutageNextDay'] = outage_next_day\n"
     ]
    }
   ],
   "source": [
    "# Create an empty list to store the values for 'OutageNextDay'. Since we want to predict if an outage exists \n",
    "df = initial_data\n",
    "df['Date'] = pd.to_datetime(df['Date'])\n",
    "\n",
    "# Initialize an empty list to store 'OutageNextDay' values\n",
    "outage_next_day = []\n",
    "\n",
    "# Iterate over the DataFrame rows\n",
    "for index, row in df.iterrows():\n",
    "    # Get the current date and outage status\n",
    "    current_date = row['Date']\n",
    "    current_outage = row['Outage']\n",
    "    \n",
    "    # Find the index of the next row with the same date\n",
    "    next_index = index + 1\n",
    "    while next_index < len(df) and df.loc[next_index, 'Date'] == current_date:\n",
    "        next_index += 1\n",
    "    \n",
    "    # If the next row exists and has the same date, record its outage status\n",
    "    if next_index < len(df):\n",
    "        next_outage = df.loc[next_index, 'Outage']\n",
    "        outage_next_day.append(next_outage)\n",
    "    else:\n",
    "        outage_next_day.append(None)  # No next day outage\n",
    "    \n",
    "# Assign the 'OutageNextDay' values to the DataFrame\n",
    "df['OutageNextDay'] = outage_next_day\n",
    "df.loc[df['Date'] == '2023-12-02', 'OutageNextDay'] = 0"
   ]
  },
  {
   "cell_type": "code",
   "execution_count": 3,
   "id": "9b056026",
   "metadata": {},
   "outputs": [
    {
     "name": "stderr",
     "output_type": "stream",
     "text": [
      "/var/folders/dp/fn2v5z3x7pj63xx0j5wvqjvm0000gp/T/ipykernel_35712/2787134435.py:5: SettingWithCopyWarning: \n",
      "A value is trying to be set on a copy of a slice from a DataFrame.\n",
      "Try using .loc[row_indexer,col_indexer] = value instead\n",
      "\n",
      "See the caveats in the documentation: https://pandas.pydata.org/pandas-docs/stable/user_guide/indexing.html#returning-a-view-versus-a-copy\n",
      "  df['OutageNextDay'] = df['OutageNextDay'].astype(int)\n"
     ]
    }
   ],
   "source": [
    "# Convert the 'OutageNextDay' column to integer type\n",
    "df['OutageNextDay'] = df['OutageNextDay'].astype(int)"
   ]
  },
  {
   "cell_type": "code",
   "execution_count": null,
   "id": "041d2295",
   "metadata": {},
   "outputs": [],
   "source": [
    "import pandas as pd\n",
    "from sklearn.model_selection import train_test_split\n",
    "from sklearn.ensemble import RandomForestClassifier\n",
    "from sklearn.metrics import accuracy_score\n",
    "\n",
    "relevant_data = df\n",
    "X = relevant_data #except outagenextday\n",
    "y = relevant_data['OutageNextDay']\n",
    "\n",
    "'''\n",
    "drops = ['Date', 'Branch', 'Location', 'Feeder', 'Category', 'Fault', 'Areas Affected', 'name', 'datetime',\n",
    "        'preciptype', 'sunrise', 'sunset', 'conditions', 'description', 'icon', 'stations',\n",
    "         'OutageNextDay', 'Next_Day_Branch', 'severerisk', 'cloudcover', 'snow', 'snowdepth', 'windgust'] \n",
    "'''\n",
    "drops = ['Date', 'Branch', 'Location', 'Feeder', 'Category', 'Fault', 'Areas Affected',\n",
    "         'conditions', 'description', 'icon',\n",
    "         'OutageNextDay', 'cloudcover', 'windgust'] \n",
    "X = X.drop(columns=drops)\n",
    "# Fill NaN or empty values in 'snow' and 'snowdepth' columns with 0.0\n",
    "#X['snow'] = X['snow'].fillna(0.0)\n",
    "#X['snowdepth'] = X['snowdepth'].fillna(0.0)\n",
    "\n",
    "# Get indices of NaN values in X\n",
    "dropped_indices = X[X.isnull().any(axis=1)].index\n",
    "\n",
    "# Drop NaN values from X and y\n",
    "X = X.dropna()\n",
    "y.drop(dropped_indices, inplace=True)"
   ]
  },
  {
   "cell_type": "code",
   "execution_count": 6,
   "id": "4b6bb3f4",
   "metadata": {},
   "outputs": [
    {
     "name": "stdout",
     "output_type": "stream",
     "text": [
      "Average metrics for Class 0:\n",
      "Average Precision: 0.78\n",
      "Average Recall: 0.80\n",
      "Average F1-Score: 0.79\n",
      "\n",
      "Average metrics for Class 1:\n",
      "Average Precision: 0.70\n",
      "Average Recall: 0.68\n",
      "Average F1-Score: 0.69\n",
      "\n",
      "Average AUC:\n",
      "Average AUC: 0.82\n"
     ]
    }
   ],
   "source": [
    "from sklearn.ensemble import RandomForestClassifier\n",
    "from sklearn.metrics import classification_report, roc_auc_score\n",
    "from sklearn.model_selection import train_test_split\n",
    "import numpy as np\n",
    "\n",
    "# Initialize empty lists to store metrics\n",
    "precision_scores_0 = []\n",
    "recall_scores_0 = []\n",
    "f1_scores_0 = []\n",
    "precision_scores_1 = []\n",
    "recall_scores_1 = []\n",
    "f1_scores_1 = []\n",
    "auc_scores = []\n",
    "\n",
    "for random_state in range(20):\n",
    "    # Split the data\n",
    "    X_train, X_test, y_train, y_test = train_test_split(X, y, test_size=0.2, random_state=random_state)\n",
    "    \n",
    "    # Create and fit the Random Forest Classifier\n",
    "    rf_model = RandomForestClassifier(n_estimators = 1000, min_samples_split=13, class_weight = {0: 0.23, 1: 0.66},\n",
    "                                      max_depth = 15, random_state=42)\n",
    "    rf_model.fit(X_train, y_train)\n",
    "    \n",
    "    # Predict on test set\n",
    "    y_pred = rf_model.predict(X_test)\n",
    "\n",
    "    # Generate classification report\n",
    "    report = classification_report(y_test, y_pred, output_dict=True)\n",
    "    \n",
    "    # Accumulate precision, recall, and F1-score for class 0 and class 1\n",
    "    precision_scores_0.append(report['0']['precision'])\n",
    "    recall_scores_0.append(report['0']['recall'])\n",
    "    f1_scores_0.append(report['0']['f1-score'])\n",
    "    precision_scores_1.append(report['1']['precision'])\n",
    "    recall_scores_1.append(report['1']['recall'])\n",
    "    f1_scores_1.append(report['1']['f1-score'])\n",
    "    \n",
    "    # Calculate AUC\n",
    "    auc = roc_auc_score(y_test, rf_model.predict_proba(X_test)[:, 1])\n",
    "    auc_scores.append(auc)\n",
    "\n",
    "# Calculate average metrics for class 0\n",
    "avg_precision_0 = np.mean(precision_scores_0)\n",
    "avg_recall_0 = np.mean(recall_scores_0)\n",
    "avg_f1_0 = np.mean(f1_scores_0)\n",
    "\n",
    "# Calculate average metrics for class 1\n",
    "avg_precision_1 = np.mean(precision_scores_1)\n",
    "avg_recall_1 = np.mean(recall_scores_1)\n",
    "avg_f1_1 = np.mean(f1_scores_1)\n",
    "\n",
    "# Calculate average AUC\n",
    "avg_auc = np.mean(auc_scores)\n",
    "\n",
    "# Print average metrics for class 0\n",
    "print(\"Average metrics for Class 0:\")\n",
    "print(f'Average Precision: {avg_precision_0:.2f}')\n",
    "print(f'Average Recall: {avg_recall_0:.2f}')\n",
    "print(f'Average F1-Score: {avg_f1_0:.2f}')\n",
    "\n",
    "# Print average metrics for class 1\n",
    "print(\"\\nAverage metrics for Class 1:\")\n",
    "print(f'Average Precision: {avg_precision_1:.2f}')\n",
    "print(f'Average Recall: {avg_recall_1:.2f}')\n",
    "print(f'Average F1-Score: {avg_f1_1:.2f}')\n",
    "\n",
    "# Print average AUC\n",
    "print(\"\\nAverage AUC:\")\n",
    "print(f'Average AUC: {avg_auc:.2f}')"
   ]
  },
  {
   "cell_type": "code",
   "execution_count": 7,
   "id": "91a903f7",
   "metadata": {},
   "outputs": [
    {
     "data": {
      "text/plain": [
       "['Outage Prediction Model.joblib']"
      ]
     },
     "execution_count": 7,
     "metadata": {},
     "output_type": "execute_result"
    }
   ],
   "source": [
    "from joblib import dump\n",
    "\n",
    "# Assuming your logistic regression model is named lin_reg\n",
    "dump(rf_model, 'Outage Prediction Model.joblib')"
   ]
  }
 ],
 "metadata": {
  "kernelspec": {
   "display_name": "Python 3 (ipykernel)",
   "language": "python",
   "name": "python3"
  },
  "language_info": {
   "codemirror_mode": {
    "name": "ipython",
    "version": 3
   },
   "file_extension": ".py",
   "mimetype": "text/x-python",
   "name": "python",
   "nbconvert_exporter": "python",
   "pygments_lexer": "ipython3",
   "version": "3.8.17"
  }
 },
 "nbformat": 4,
 "nbformat_minor": 5
}
