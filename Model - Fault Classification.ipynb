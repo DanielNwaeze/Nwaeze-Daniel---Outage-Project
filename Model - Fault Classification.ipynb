{
 "cells": [
  {
   "cell_type": "code",
   "execution_count": 1,
   "id": "167c3f3a",
   "metadata": {},
   "outputs": [],
   "source": [
    "import pandas as pd\n",
    "complete_data = pd.read_csv('complete_data.csv')\n",
    "relevant_columns = [\n",
    "    'Date', 'Branch', 'Location', 'Feeder', 'Category', 'Fault', 'Areas Affected', 'Peak Generation',\n",
    "    'Daily Energy Generation', 'Lowest Energy Generation', 'Daily Energy Sent', '6:00 Generation',\n",
    "    'Highest System Frequency', 'Lowest System Frequency', 'Highest Voltage Recorded', 'Lowest Voltage Recorded',\n",
    "    'temp', 'humidity',\n",
    "    'precip', 'precipprob', 'precipcover', 'windgust', 'windspeed', 'winddir', 'sealevelpressure',\n",
    "    'cloudcover', 'visibility', 'solarradiation', 'solarenergy', 'uvindex',\n",
    "    'conditions', 'description', 'icon', 'feelslike'\n",
    "]\n",
    "complete_data['Outage'] = complete_data['Category'].apply(lambda x: 0 if pd.isna(x) else 1)\n",
    "initial_data = complete_data[relevant_columns]"
   ]
  },
  {
   "cell_type": "markdown",
   "id": "569a8c32",
   "metadata": {},
   "source": [
    "### Fault Type Prediction"
   ]
  },
  {
   "cell_type": "code",
   "execution_count": 2,
   "id": "68e38ef1",
   "metadata": {},
   "outputs": [
    {
     "name": "stderr",
     "output_type": "stream",
     "text": [
      "/var/folders/dp/fn2v5z3x7pj63xx0j5wvqjvm0000gp/T/ipykernel_32787/287174989.py:4: SettingWithCopyWarning: \n",
      "A value is trying to be set on a copy of a slice from a DataFrame\n",
      "\n",
      "See the caveats in the documentation: https://pandas.pydata.org/pandas-docs/stable/user_guide/indexing.html#returning-a-view-versus-a-copy\n",
      "  y_nlp.replace({'Transformer (N/S)': 'Transformer'}, inplace=True)\n",
      "/var/folders/dp/fn2v5z3x7pj63xx0j5wvqjvm0000gp/T/ipykernel_32787/287174989.py:5: SettingWithCopyWarning: \n",
      "A value is trying to be set on a copy of a slice from a DataFrame\n",
      "\n",
      "See the caveats in the documentation: https://pandas.pydata.org/pandas-docs/stable/user_guide/indexing.html#returning-a-view-versus-a-copy\n",
      "  y_nlp.replace({'HVDS': 'High-Voltage (Distribution) System'}, inplace=True)\n",
      "/var/folders/dp/fn2v5z3x7pj63xx0j5wvqjvm0000gp/T/ipykernel_32787/287174989.py:6: SettingWithCopyWarning: \n",
      "A value is trying to be set on a copy of a slice from a DataFrame\n",
      "\n",
      "See the caveats in the documentation: https://pandas.pydata.org/pandas-docs/stable/user_guide/indexing.html#returning-a-view-versus-a-copy\n",
      "  y_nlp.replace({'TCN': 'Transmission'}, inplace=True)\n",
      "/var/folders/dp/fn2v5z3x7pj63xx0j5wvqjvm0000gp/T/ipykernel_32787/287174989.py:7: SettingWithCopyWarning: \n",
      "A value is trying to be set on a copy of a slice from a DataFrame\n",
      "\n",
      "See the caveats in the documentation: https://pandas.pydata.org/pandas-docs/stable/user_guide/indexing.html#returning-a-view-versus-a-copy\n",
      "  y_nlp.replace({'Notification': 'Customer Notification'}, inplace=True)\n",
      "/var/folders/dp/fn2v5z3x7pj63xx0j5wvqjvm0000gp/T/ipykernel_32787/287174989.py:8: SettingWithCopyWarning: \n",
      "A value is trying to be set on a copy of a slice from a DataFrame\n",
      "\n",
      "See the caveats in the documentation: https://pandas.pydata.org/pandas-docs/stable/user_guide/indexing.html#returning-a-view-versus-a-copy\n",
      "  y_nlp.replace({'DT': 'Transformer'}, inplace=True)\n"
     ]
    }
   ],
   "source": [
    "X_nlp = initial_data[\"Fault\"]\n",
    "y_nlp = initial_data[\"Category\"]\n",
    "# Replace 'Transformer (N/S)' with 'Transformer' in y_nlp\n",
    "y_nlp.replace({'Transformer (N/S)': 'Transformer'}, inplace=True)\n",
    "y_nlp.replace({'HVDS': 'High-Voltage (Distribution) System'}, inplace=True)\n",
    "y_nlp.replace({'TCN': 'Transmission'}, inplace=True)\n",
    "y_nlp.replace({'Notification': 'Customer Notification'}, inplace=True)\n",
    "y_nlp.replace({'DT': 'Transformer'}, inplace=True)"
   ]
  },
  {
   "cell_type": "code",
   "execution_count": 3,
   "id": "16987532",
   "metadata": {},
   "outputs": [
    {
     "data": {
      "text/plain": [
       "0            Feeder\n",
       "1            Feeder\n",
       "2               NaN\n",
       "3       Transformer\n",
       "4               NaN\n",
       "           ...     \n",
       "1047            NaN\n",
       "1048            NaN\n",
       "1049         Feeder\n",
       "1050     Substation\n",
       "1051     Substation\n",
       "Name: Category, Length: 1052, dtype: object"
      ]
     },
     "execution_count": 3,
     "metadata": {},
     "output_type": "execute_result"
    }
   ],
   "source": [
    "y_nlp"
   ]
  },
  {
   "cell_type": "code",
   "execution_count": 4,
   "id": "ed217754",
   "metadata": {},
   "outputs": [
    {
     "name": "stderr",
     "output_type": "stream",
     "text": [
      "/var/folders/dp/fn2v5z3x7pj63xx0j5wvqjvm0000gp/T/ipykernel_32787/810286693.py:5: SettingWithCopyWarning: \n",
      "A value is trying to be set on a copy of a slice from a DataFrame\n",
      "\n",
      "See the caveats in the documentation: https://pandas.pydata.org/pandas-docs/stable/user_guide/indexing.html#returning-a-view-versus-a-copy\n",
      "  X_nlp.dropna(inplace=True)\n",
      "/var/folders/dp/fn2v5z3x7pj63xx0j5wvqjvm0000gp/T/ipykernel_32787/810286693.py:6: SettingWithCopyWarning: \n",
      "A value is trying to be set on a copy of a slice from a DataFrame\n",
      "\n",
      "See the caveats in the documentation: https://pandas.pydata.org/pandas-docs/stable/user_guide/indexing.html#returning-a-view-versus-a-copy\n",
      "  y_nlp.drop(dropped_indices, inplace=True)\n"
     ]
    }
   ],
   "source": [
    "# Get indices of NaN values in X\n",
    "dropped_indices = X_nlp[X_nlp.isna()].index\n",
    "\n",
    "# Drop NaN values from X and y\n",
    "X_nlp.dropna(inplace=True)\n",
    "y_nlp.drop(dropped_indices, inplace=True)"
   ]
  },
  {
   "cell_type": "code",
   "execution_count": 5,
   "id": "d44185b5",
   "metadata": {},
   "outputs": [
    {
     "data": {
      "text/plain": [
       "0                              FAULT ON OWORO IGBOBI 33KV\n",
       "1                              FAULT ON OWORO IGBOBI 33KV\n",
       "3       FAULT ON 11-IJAIYE OJOKOROINJ-T1-AGBADO 2-MAJE...\n",
       "9                          FAULT ON AGBE ROAD 11KV FEEDER\n",
       "10                         FAULT ON AGBE ROAD 11KV FEEDER\n",
       "                              ...                        \n",
       "1044                   OUTAGE ON 11-OPEBIINJ-T1-SALVATION\n",
       "1045    REQUEST TO NOTIFY CUSTOMERS ON MATOGUN 11KV FE...\n",
       "1049                         OUTAGE ON IGANDO 33KV FEEDER\n",
       "1050    CNN TO ALL CUSTOMERS FEEDING FROM ALIMOSHO 3X1...\n",
       "1051    CNN TO ALL CUSTOMERS FEEDING FROM AMIKANLE 1X1...\n",
       "Name: Fault, Length: 558, dtype: object"
      ]
     },
     "execution_count": 5,
     "metadata": {},
     "output_type": "execute_result"
    }
   ],
   "source": [
    "X_nlp"
   ]
  },
  {
   "cell_type": "code",
   "execution_count": 6,
   "id": "f2fedd24",
   "metadata": {},
   "outputs": [],
   "source": [
    "from sklearn.feature_extraction.text import TfidfVectorizer\n",
    "from sklearn.svm import LinearSVC\n",
    "from sklearn.pipeline import Pipeline\n",
    "from sklearn.metrics import classification_report\n",
    "from sklearn.model_selection import train_test_split\n",
    "from sklearn.linear_model import LogisticRegression\n",
    "from sklearn.ensemble import RandomForestClassifier"
   ]
  },
  {
   "cell_type": "code",
   "execution_count": 7,
   "id": "ed9f8d18",
   "metadata": {},
   "outputs": [],
   "source": [
    "# Generating this myself for \"human\" induced power outages which includes vandalism, cyber attacks etc.\n",
    "human = [\n",
    "        'Data breach affecting power distribution',\n",
    "        'Hacking incident targeting grid operations',\n",
    "        'Stolen devices disrupting energy supply',\n",
    "        'Vandalism on critical power infrastructure',\n",
    "        'Cyber intrusion causing network outage',\n",
    "        'Equipment theft impacting service reliability',\n",
    "        'Malicious cyber attack on power systems',\n",
    "        'Sabotage leading to power grid failure',\n",
    "        'Cyber security breach affecting electricity delivery',\n",
    "        'Damage to power lines by vandals'\n",
    "    ]\n",
    "\n",
    "y_human = ['Human'] * 10 \n",
    "\n",
    "# Convert human-related data to pandas Series\n",
    "X_human = pd.Series(human)\n",
    "# Concatenate existing X_nlp and X_human\n",
    "X_total = pd.concat([X_nlp, X_human], ignore_index=True)\n",
    "\n",
    "# Convert human-related data to pandas Series\n",
    "y_human = pd.Series(y_human)\n",
    "# Concatenate existing X_nlp and X_human\n",
    "y_total = pd.concat([y_nlp, y_human], ignore_index=True)"
   ]
  },
  {
   "cell_type": "code",
   "execution_count": 8,
   "id": "052bc812",
   "metadata": {},
   "outputs": [
    {
     "data": {
      "text/plain": [
       "0           Feeder\n",
       "1           Feeder\n",
       "2      Transformer\n",
       "3           Feeder\n",
       "4           Feeder\n",
       "          ...     \n",
       "563          Human\n",
       "564          Human\n",
       "565          Human\n",
       "566          Human\n",
       "567          Human\n",
       "Length: 568, dtype: object"
      ]
     },
     "execution_count": 8,
     "metadata": {},
     "output_type": "execute_result"
    }
   ],
   "source": [
    "y_total"
   ]
  },
  {
   "cell_type": "code",
   "execution_count": 76,
   "id": "cfd8588c",
   "metadata": {},
   "outputs": [
    {
     "name": "stdout",
     "output_type": "stream",
     "text": [
      "Collecting nltk\n",
      "  Using cached nltk-3.8.1-py3-none-any.whl (1.5 MB)\n",
      "Requirement already satisfied: click in /Users/mac/miniforge3/envs/source-api/lib/python3.8/site-packages (from nltk) (8.1.7)\n",
      "Requirement already satisfied: tqdm in /Users/mac/.local/lib/python3.8/site-packages (from nltk) (4.64.1)\n",
      "Requirement already satisfied: joblib in /Users/mac/miniforge3/envs/source-api/lib/python3.8/site-packages (from nltk) (1.3.2)\n",
      "Collecting regex>=2021.8.3\n",
      "  Downloading regex-2023.12.25-cp38-cp38-macosx_11_0_arm64.whl (291 kB)\n",
      "\u001b[2K     \u001b[90m━━━━━━━━━━━━━━━━━━━━━━━━━━━━━━━━━━━━━\u001b[0m \u001b[32m291.0/291.0 kB\u001b[0m \u001b[31m136.3 kB/s\u001b[0m eta \u001b[36m0:00:00\u001b[0ma \u001b[36m0:00:01\u001b[0m\n",
      "\u001b[?25hInstalling collected packages: regex, nltk\n",
      "Successfully installed nltk-3.8.1 regex-2023.12.25\n"
     ]
    }
   ],
   "source": [
    "!pip install nltk"
   ]
  },
  {
   "cell_type": "code",
   "execution_count": 9,
   "id": "40029a4b",
   "metadata": {},
   "outputs": [
    {
     "name": "stderr",
     "output_type": "stream",
     "text": [
      "[nltk_data] Error loading stopwords: <urlopen error [Errno 8] nodename\n",
      "[nltk_data]     nor servname provided, or not known>\n"
     ]
    }
   ],
   "source": [
    "import string\n",
    "import nltk\n",
    "from nltk.corpus import stopwords\n",
    "\n",
    "# Download stopwords if not already done\n",
    "nltk.download('stopwords')\n",
    "\n",
    "# Define stopwords\n",
    "stop_words = set(stopwords.words('english'))\n",
    "\n",
    "# Define a function for text preprocessing\n",
    "def preprocess_text(text):\n",
    "    # Convert text to lowercase\n",
    "    text = text.lower()\n",
    "    # Remove punctuation\n",
    "    text = ''.join([char for char in text if char not in string.punctuation])\n",
    "    # Remove stopwords\n",
    "    text = ' '.join([word for word in text.split() if word not in stop_words])\n",
    "    return text\n",
    "\n",
    "# Apply text preprocessing to X_nlp\n",
    "X_processed = X_nlp.apply(preprocess_text)\n"
   ]
  },
  {
   "cell_type": "code",
   "execution_count": 10,
   "id": "14da6808",
   "metadata": {},
   "outputs": [
    {
     "data": {
      "text/plain": [
       "0                              FAULT ON OWORO IGBOBI 33KV\n",
       "1                              FAULT ON OWORO IGBOBI 33KV\n",
       "3       FAULT ON 11-IJAIYE OJOKOROINJ-T1-AGBADO 2-MAJE...\n",
       "9                          FAULT ON AGBE ROAD 11KV FEEDER\n",
       "10                         FAULT ON AGBE ROAD 11KV FEEDER\n",
       "                              ...                        \n",
       "1044                   OUTAGE ON 11-OPEBIINJ-T1-SALVATION\n",
       "1045    REQUEST TO NOTIFY CUSTOMERS ON MATOGUN 11KV FE...\n",
       "1049                         OUTAGE ON IGANDO 33KV FEEDER\n",
       "1050    CNN TO ALL CUSTOMERS FEEDING FROM ALIMOSHO 3X1...\n",
       "1051    CNN TO ALL CUSTOMERS FEEDING FROM AMIKANLE 1X1...\n",
       "Name: Fault, Length: 558, dtype: object"
      ]
     },
     "execution_count": 10,
     "metadata": {},
     "output_type": "execute_result"
    }
   ],
   "source": [
    "X_nlp"
   ]
  },
  {
   "cell_type": "code",
   "execution_count": 11,
   "id": "59629293",
   "metadata": {},
   "outputs": [
    {
     "data": {
      "text/plain": [
       "0                            fault oworo igbobi 33kv\n",
       "1                            fault oworo igbobi 33kv\n",
       "3       fault 11ijaiye ojokoroinjt1agbado 2majeobaje\n",
       "9                        fault agbe road 11kv feeder\n",
       "10                       fault agbe road 11kv feeder\n",
       "                            ...                     \n",
       "1044                    outage 11opebiinjt1salvation\n",
       "1045    request notify customers matogun 11kv feeder\n",
       "1049                       outage igando 33kv feeder\n",
       "1050      cnn customers feeding alimosho 3x15mva iss\n",
       "1051      cnn customers feeding amikanle 1x15mva iss\n",
       "Name: Fault, Length: 558, dtype: object"
      ]
     },
     "execution_count": 11,
     "metadata": {},
     "output_type": "execute_result"
    }
   ],
   "source": [
    "X_processed"
   ]
  },
  {
   "cell_type": "code",
   "execution_count": 13,
   "id": "c7c0705e",
   "metadata": {},
   "outputs": [
    {
     "data": {
      "text/plain": [
       "array(['Customer Notification', 'Feeder', 'Breaker', 'Transformer',\n",
       "       'Transformer', 'Feeder', 'Transformer', 'Planned', 'Feeder',\n",
       "       'Feeder', 'Feeder', 'Transformer', 'Planned',\n",
       "       'Customer Notification', 'Feeder', 'Transformer',\n",
       "       'Customer Notification', 'Breaker', 'Feeder', 'Feeder', 'Planned',\n",
       "       'Transformer', 'Feeder', 'Transformer', 'Planned', 'Feeder',\n",
       "       'Transformer', 'Transformer', 'Planned', 'Planned', 'Transformer',\n",
       "       'Transmission', 'Feeder', 'Feeder', 'Transformer', 'Feeder',\n",
       "       'Feeder', 'Transformer', 'Planned', 'Customer Notification',\n",
       "       'Transformer', 'High-Voltage (Distribution) System',\n",
       "       'Customer Notification', 'Customer Notification', 'Transformer',\n",
       "       'Planned', 'Feeder', 'Feeder', 'Feeder', 'Customer Notification',\n",
       "       'Transformer', 'Customer Notification', 'Customer Notification',\n",
       "       'Customer Notification', 'Customer Notification', 'Planned',\n",
       "       'Feeder', 'Feeder', 'Transformer', 'Customer Notification',\n",
       "       'Transformer', 'Feeder', 'Transformer', 'Feeder', 'Feeder',\n",
       "       'Feeder', 'Transformer', 'High-Voltage (Distribution) System',\n",
       "       'Feeder', 'Customer Notification', 'Transformer', 'Planned',\n",
       "       'Feeder', 'Human', 'Transformer', 'Transformer', 'Transformer',\n",
       "       'Feeder', 'Transformer', 'Transformer', 'Feeder',\n",
       "       'Customer Notification', 'Transformer', 'Transformer', 'Feeder',\n",
       "       'Planned', 'Planned', 'Customer Notification', 'Breaker', 'Feeder',\n",
       "       'Feeder', 'Feeder', 'Transformer', 'Planned', 'Feeder', 'Feeder',\n",
       "       'Feeder', 'Feeder', 'Customer Notification', 'Feeder', 'Feeder',\n",
       "       'Feeder', 'Customer Notification', 'Transformer',\n",
       "       'Customer Notification', 'Feeder', 'Feeder', 'Feeder', 'Planned',\n",
       "       'Feeder', 'Transformer', 'Planned'], dtype=object)"
      ]
     },
     "execution_count": 13,
     "metadata": {},
     "output_type": "execute_result"
    }
   ],
   "source": [
    "y_pred"
   ]
  },
  {
   "cell_type": "code",
   "execution_count": 12,
   "id": "d92876c5",
   "metadata": {},
   "outputs": [
    {
     "data": {
      "text/plain": [
       "Index([   0,    1,    3,    9,   10,   24,   35,   36,   38,   47,\n",
       "       ...\n",
       "       1034, 1035, 1036, 1038, 1043, 1044, 1045, 1049, 1050, 1051],\n",
       "      dtype='int64', length=558)"
      ]
     },
     "execution_count": 12,
     "metadata": {},
     "output_type": "execute_result"
    }
   ],
   "source": [
    "X_processed.index"
   ]
  },
  {
   "cell_type": "code",
   "execution_count": 13,
   "id": "22e49853",
   "metadata": {},
   "outputs": [
    {
     "data": {
      "text/plain": [
       "0             Data breach affecting power distribution\n",
       "1           Hacking incident targeting grid operations\n",
       "2              Stolen devices disrupting energy supply\n",
       "3           Vandalism on critical power infrastructure\n",
       "4               Cyber intrusion causing network outage\n",
       "5        Equipment theft impacting service reliability\n",
       "6              Malicious cyber attack on power systems\n",
       "7               Sabotage leading to power grid failure\n",
       "8    Cyber security breach affecting electricity de...\n",
       "9                     Damage to power lines by vandals\n",
       "dtype: object"
      ]
     },
     "execution_count": 13,
     "metadata": {},
     "output_type": "execute_result"
    }
   ],
   "source": [
    "X_human"
   ]
  },
  {
   "cell_type": "code",
   "execution_count": 14,
   "id": "96b656e8",
   "metadata": {},
   "outputs": [],
   "source": [
    "X_total = pd.concat([X_nlp, X_human], ignore_index=True)"
   ]
  },
  {
   "cell_type": "code",
   "execution_count": 15,
   "id": "203f4f02",
   "metadata": {},
   "outputs": [
    {
     "data": {
      "text/plain": [
       "0                      Feeder\n",
       "1                      Feeder\n",
       "3                 Transformer\n",
       "9                      Feeder\n",
       "10                     Feeder\n",
       "                ...          \n",
       "1044                   Feeder\n",
       "1045    Customer Notification\n",
       "1049                   Feeder\n",
       "1050               Substation\n",
       "1051               Substation\n",
       "Name: Category, Length: 558, dtype: object"
      ]
     },
     "execution_count": 15,
     "metadata": {},
     "output_type": "execute_result"
    }
   ],
   "source": [
    "y_nlp"
   ]
  },
  {
   "cell_type": "code",
   "execution_count": 16,
   "id": "2916b105",
   "metadata": {},
   "outputs": [
    {
     "name": "stdout",
     "output_type": "stream",
     "text": [
      "Accuracy: 85.09%\n",
      "                                    precision    recall  f1-score   support\n",
      "\n",
      "                           Breaker       1.00      0.75      0.86         4\n",
      "             Customer Notification       0.94      0.89      0.92        19\n",
      "                            Feeder       0.83      0.80      0.81        30\n",
      "High-Voltage (Distribution) System       1.00      1.00      1.00         2\n",
      "                             Human       0.83      0.83      0.83         6\n",
      "                           Planned       0.57      0.89      0.70         9\n",
      "                        Substation       1.00      1.00      1.00         1\n",
      "                       Transformer       0.89      0.89      0.89        38\n",
      "                      Transmission       1.00      0.60      0.75         5\n",
      "\n",
      "                          accuracy                           0.85       114\n",
      "                         macro avg       0.90      0.85      0.86       114\n",
      "                      weighted avg       0.87      0.85      0.85       114\n",
      "\n"
     ]
    }
   ],
   "source": [
    "from sklearn.metrics import accuracy_score\n",
    "# Step 2: Vectorization\n",
    "tfidf_vectorizer = TfidfVectorizer()\n",
    "X_processed = X_total.apply(preprocess_text)\n",
    "X_vectorized = tfidf_vectorizer.fit_transform(X_processed)\n",
    "\n",
    "# Step 3: Model Selection\n",
    "model = LogisticRegression(penalty='l2', C=10.0, solver='liblinear', max_iter=100,  random_state=42,\n",
    "                             class_weight='balanced', dual=False)\n",
    "\n",
    "# Step 4: Train-Test Split\n",
    "X_train, X_test, y_train, y_test = train_test_split(X_vectorized, y_total, test_size=0.2, random_state=6)\n",
    "\n",
    "# Step 5: Model Training\n",
    "model.fit(X_train, y_train)\n",
    "\n",
    "# Step 6: Model Evaluation\n",
    "y_pred = model.predict(X_test)\n",
    "accuracy = accuracy_score(y_test, y_pred)\n",
    "print(f'Accuracy: {accuracy * 100:.2f}%')\n",
    "print(classification_report(y_test, y_pred))\n"
   ]
  },
  {
   "cell_type": "code",
   "execution_count": 17,
   "id": "64a0a01b",
   "metadata": {},
   "outputs": [
    {
     "name": "stdout",
     "output_type": "stream",
     "text": [
      "Misclassified Instances with Original Texts:\n",
      "                                         Original Text             True Label  \\\n",
      "56      PLANNED OUTAGE REQUEST ON T1 300MVA OKE-ARO TS            Transformer   \n",
      "15       PLANNED OUTAGE ON MARYLAND-AJEGUNLE 33KV LINE                 Feeder   \n",
      "106            NO SUPPLY ON 11-OGUDUINJ-T1-CAC-LSDPC 3            Transformer   \n",
      "80       PLANNED OUTAGE REQUEST ON ILUPEJU 33KV FEEDER                 Feeder   \n",
      "277     PLANNED OUTAGE REQUEST ON AMIKANLE 33KV FEEDER                 Feeder   \n",
      "457  HT POLE TO ERECT: CNN TO OUR CUSTOMER ON KETU,...  Customer Notification   \n",
      "334                 PLANNED OUTAGE ON EGBE 33KV FEEDER                 Feeder   \n",
      "247              PLANNED OUTAGE ON T6 60MVA OKE ARO TS                Planned   \n",
      "230  tRIPPING ON T3-60MVA OGBA TCN AFFECTING ADENIY...           Transmission   \n",
      "496         SMS TO OKO-OBA 11 KV CUSTOMER ON AGEGE INJ  Customer Notification   \n",
      "\n",
      "    Predicted Label  \n",
      "56          Planned  \n",
      "15          Planned  \n",
      "106          Feeder  \n",
      "80          Planned  \n",
      "277         Planned  \n",
      "457           Human  \n",
      "334         Planned  \n",
      "247     Transformer  \n",
      "230     Transformer  \n",
      "496          Feeder  \n"
     ]
    }
   ],
   "source": [
    "# Identify misclassified instances\n",
    "misclassified_indices = (y_test != y_pred)\n",
    "misclassified_samples = X_test[misclassified_indices]\n",
    "misclassified_true_labels = y_test[misclassified_indices]\n",
    "misclassified_pred_labels = y_pred[misclassified_indices]\n",
    "\n",
    "# To get the original texts/features\n",
    "# Assuming X_total and X_vectorized are already defined\n",
    "# Map the indices to the original dataset\n",
    "original_indices = y_test.index[misclassified_indices]\n",
    "original_texts = X_total.iloc[original_indices]\n",
    "\n",
    "# Display misclassified instances\n",
    "misclassified_df = pd.DataFrame({\n",
    "    'Original Text': original_texts,\n",
    "    'True Label': misclassified_true_labels,\n",
    "    'Predicted Label': misclassified_pred_labels\n",
    "})\n",
    "\n",
    "print(\"Misclassified Instances with Original Texts:\")\n",
    "print(misclassified_df.head(10))  # Display the first 10 misclassified samples"
   ]
  },
  {
   "cell_type": "code",
   "execution_count": 18,
   "id": "30c066f8",
   "metadata": {},
   "outputs": [
    {
     "data": {
      "text/html": [
       "<div>\n",
       "<style scoped>\n",
       "    .dataframe tbody tr th:only-of-type {\n",
       "        vertical-align: middle;\n",
       "    }\n",
       "\n",
       "    .dataframe tbody tr th {\n",
       "        vertical-align: top;\n",
       "    }\n",
       "\n",
       "    .dataframe thead th {\n",
       "        text-align: right;\n",
       "    }\n",
       "</style>\n",
       "<table border=\"1\" class=\"dataframe\">\n",
       "  <thead>\n",
       "    <tr style=\"text-align: right;\">\n",
       "      <th></th>\n",
       "      <th>Original Text</th>\n",
       "      <th>True Label</th>\n",
       "      <th>Predicted Label</th>\n",
       "    </tr>\n",
       "  </thead>\n",
       "  <tbody>\n",
       "    <tr>\n",
       "      <th>56</th>\n",
       "      <td>PLANNED OUTAGE REQUEST ON T1 300MVA OKE-ARO TS</td>\n",
       "      <td>Transformer</td>\n",
       "      <td>Planned</td>\n",
       "    </tr>\n",
       "    <tr>\n",
       "      <th>15</th>\n",
       "      <td>PLANNED OUTAGE ON MARYLAND-AJEGUNLE 33KV LINE</td>\n",
       "      <td>Feeder</td>\n",
       "      <td>Planned</td>\n",
       "    </tr>\n",
       "    <tr>\n",
       "      <th>106</th>\n",
       "      <td>NO SUPPLY ON 11-OGUDUINJ-T1-CAC-LSDPC 3</td>\n",
       "      <td>Transformer</td>\n",
       "      <td>Feeder</td>\n",
       "    </tr>\n",
       "    <tr>\n",
       "      <th>80</th>\n",
       "      <td>PLANNED OUTAGE REQUEST ON ILUPEJU 33KV FEEDER</td>\n",
       "      <td>Feeder</td>\n",
       "      <td>Planned</td>\n",
       "    </tr>\n",
       "    <tr>\n",
       "      <th>277</th>\n",
       "      <td>PLANNED OUTAGE REQUEST ON AMIKANLE 33KV FEEDER</td>\n",
       "      <td>Feeder</td>\n",
       "      <td>Planned</td>\n",
       "    </tr>\n",
       "    <tr>\n",
       "      <th>457</th>\n",
       "      <td>HT POLE TO ERECT: CNN TO OUR CUSTOMER ON KETU,...</td>\n",
       "      <td>Customer Notification</td>\n",
       "      <td>Human</td>\n",
       "    </tr>\n",
       "    <tr>\n",
       "      <th>334</th>\n",
       "      <td>PLANNED OUTAGE ON EGBE 33KV FEEDER</td>\n",
       "      <td>Feeder</td>\n",
       "      <td>Planned</td>\n",
       "    </tr>\n",
       "    <tr>\n",
       "      <th>247</th>\n",
       "      <td>PLANNED OUTAGE ON T6 60MVA OKE ARO TS</td>\n",
       "      <td>Planned</td>\n",
       "      <td>Transformer</td>\n",
       "    </tr>\n",
       "    <tr>\n",
       "      <th>230</th>\n",
       "      <td>tRIPPING ON T3-60MVA OGBA TCN AFFECTING ADENIY...</td>\n",
       "      <td>Transmission</td>\n",
       "      <td>Transformer</td>\n",
       "    </tr>\n",
       "    <tr>\n",
       "      <th>496</th>\n",
       "      <td>SMS TO OKO-OBA 11 KV CUSTOMER ON AGEGE INJ</td>\n",
       "      <td>Customer Notification</td>\n",
       "      <td>Feeder</td>\n",
       "    </tr>\n",
       "    <tr>\n",
       "      <th>478</th>\n",
       "      <td>FAULT AFFECTING DTS ON IDIMU 11KV FEEDER</td>\n",
       "      <td>Transformer</td>\n",
       "      <td>Feeder</td>\n",
       "    </tr>\n",
       "    <tr>\n",
       "      <th>532</th>\n",
       "      <td>POOR ALLOCATION TO MARYLAND TS</td>\n",
       "      <td>Transmission</td>\n",
       "      <td>Feeder</td>\n",
       "    </tr>\n",
       "    <tr>\n",
       "      <th>179</th>\n",
       "      <td>VANDALISED CABLE AT OWOMIDE 500KVA SUBSTATION</td>\n",
       "      <td>Human</td>\n",
       "      <td>Transformer</td>\n",
       "    </tr>\n",
       "    <tr>\n",
       "      <th>442</th>\n",
       "      <td>APPROVAL REQUEST FOR CNN ON 11-ITIREINJ-T3-AGO...</td>\n",
       "      <td>Feeder</td>\n",
       "      <td>Customer Notification</td>\n",
       "    </tr>\n",
       "    <tr>\n",
       "      <th>221</th>\n",
       "      <td>SHATTERED INSULATOR/BUSHING AT 33-OKE-AROTCN-A...</td>\n",
       "      <td>Breaker</td>\n",
       "      <td>Transformer</td>\n",
       "    </tr>\n",
       "    <tr>\n",
       "      <th>224</th>\n",
       "      <td>FAULT OUTAGE</td>\n",
       "      <td>Feeder</td>\n",
       "      <td>Planned</td>\n",
       "    </tr>\n",
       "    <tr>\n",
       "      <th>346</th>\n",
       "      <td>NO SUPPLY ON 11-MARYLANDINJ-T1-KETU-ODOGBOLU</td>\n",
       "      <td>Transformer</td>\n",
       "      <td>Feeder</td>\n",
       "    </tr>\n",
       "  </tbody>\n",
       "</table>\n",
       "</div>"
      ],
      "text/plain": [
       "                                         Original Text             True Label  \\\n",
       "56      PLANNED OUTAGE REQUEST ON T1 300MVA OKE-ARO TS            Transformer   \n",
       "15       PLANNED OUTAGE ON MARYLAND-AJEGUNLE 33KV LINE                 Feeder   \n",
       "106            NO SUPPLY ON 11-OGUDUINJ-T1-CAC-LSDPC 3            Transformer   \n",
       "80       PLANNED OUTAGE REQUEST ON ILUPEJU 33KV FEEDER                 Feeder   \n",
       "277     PLANNED OUTAGE REQUEST ON AMIKANLE 33KV FEEDER                 Feeder   \n",
       "457  HT POLE TO ERECT: CNN TO OUR CUSTOMER ON KETU,...  Customer Notification   \n",
       "334                 PLANNED OUTAGE ON EGBE 33KV FEEDER                 Feeder   \n",
       "247              PLANNED OUTAGE ON T6 60MVA OKE ARO TS                Planned   \n",
       "230  tRIPPING ON T3-60MVA OGBA TCN AFFECTING ADENIY...           Transmission   \n",
       "496         SMS TO OKO-OBA 11 KV CUSTOMER ON AGEGE INJ  Customer Notification   \n",
       "478           FAULT AFFECTING DTS ON IDIMU 11KV FEEDER            Transformer   \n",
       "532                     POOR ALLOCATION TO MARYLAND TS           Transmission   \n",
       "179      VANDALISED CABLE AT OWOMIDE 500KVA SUBSTATION                  Human   \n",
       "442  APPROVAL REQUEST FOR CNN ON 11-ITIREINJ-T3-AGO...                 Feeder   \n",
       "221  SHATTERED INSULATOR/BUSHING AT 33-OKE-AROTCN-A...                Breaker   \n",
       "224                                       FAULT OUTAGE                 Feeder   \n",
       "346       NO SUPPLY ON 11-MARYLANDINJ-T1-KETU-ODOGBOLU            Transformer   \n",
       "\n",
       "           Predicted Label  \n",
       "56                 Planned  \n",
       "15                 Planned  \n",
       "106                 Feeder  \n",
       "80                 Planned  \n",
       "277                Planned  \n",
       "457                  Human  \n",
       "334                Planned  \n",
       "247            Transformer  \n",
       "230            Transformer  \n",
       "496                 Feeder  \n",
       "478                 Feeder  \n",
       "532                 Feeder  \n",
       "179            Transformer  \n",
       "442  Customer Notification  \n",
       "221            Transformer  \n",
       "224                Planned  \n",
       "346                 Feeder  "
      ]
     },
     "execution_count": 18,
     "metadata": {},
     "output_type": "execute_result"
    }
   ],
   "source": [
    "misclassified_df"
   ]
  },
  {
   "cell_type": "code",
   "execution_count": 19,
   "id": "dde74db1",
   "metadata": {},
   "outputs": [
    {
     "name": "stdout",
     "output_type": "stream",
     "text": [
      "Accuracy: 85.09%\n",
      "Confusion Matrix:\n",
      " [[ 3  0  0  0  0  0  0  1  0]\n",
      " [ 0 17  1  0  1  0  0  0  0]\n",
      " [ 0  1 24  0  0  5  0  0  0]\n",
      " [ 0  0  0  2  0  0  0  0  0]\n",
      " [ 0  0  0  0  5  0  0  1  0]\n",
      " [ 0  0  0  0  0  8  0  1  0]\n",
      " [ 0  0  0  0  0  0  1  0  0]\n",
      " [ 0  0  3  0  0  1  0 34  0]\n",
      " [ 0  0  1  0  0  0  0  1  3]]\n",
      "Cohen's Kappa: 0.81\n",
      "Matthews Correlation Coefficient: 0.81\n",
      "Hamming Loss: 0.15\n",
      "Log Loss: 0.56\n",
      "AUC-ROC: 0.99\n",
      "Top-3 Accuracy: 0.98\n",
      "Balanced Accuracy: 0.85\n"
     ]
    }
   ],
   "source": [
    "from sklearn.metrics import (\n",
    "    accuracy_score, confusion_matrix, cohen_kappa_score,\n",
    "    matthews_corrcoef, hamming_loss, log_loss, roc_auc_score, \n",
    "    top_k_accuracy_score, balanced_accuracy_score\n",
    ")\n",
    "from sklearn.preprocessing import label_binarize\n",
    "\n",
    "# Model predictions\n",
    "y_pred = model.predict(X_test)\n",
    "y_pred_proba = model.predict_proba(X_test)\n",
    "\n",
    "# Metrics calculations\n",
    "accuracy = accuracy_score(y_test, y_pred)\n",
    "cm = confusion_matrix(y_test, y_pred)\n",
    "kappa = cohen_kappa_score(y_test, y_pred)\n",
    "mcc = matthews_corrcoef(y_test, y_pred)\n",
    "hamming = hamming_loss(y_test, y_pred)\n",
    "logloss = log_loss(y_test, y_pred_proba)\n",
    "y_test_binarized = label_binarize(y_test, classes=model.classes_)\n",
    "auc_roc = roc_auc_score(y_test_binarized, y_pred_proba, multi_class='ovr')\n",
    "top_k_acc = top_k_accuracy_score(y_test, y_pred_proba, k=3)\n",
    "balanced_acc = balanced_accuracy_score(y_test, y_pred)\n",
    "\n",
    "# Print results\n",
    "print(f'Accuracy: {accuracy * 100:.2f}%')\n",
    "print('Confusion Matrix:\\n', cm)\n",
    "print(f'Cohen\\'s Kappa: {kappa:.2f}')\n",
    "print(f'Matthews Correlation Coefficient: {mcc:.2f}')\n",
    "print(f'Hamming Loss: {hamming:.2f}')\n",
    "print(f'Log Loss: {logloss:.2f}')\n",
    "print(f'AUC-ROC: {auc_roc:.2f}')\n",
    "print(f'Top-3 Accuracy: {top_k_acc:.2f}')\n",
    "print(f'Balanced Accuracy: {balanced_acc:.2f}')\n"
   ]
  },
  {
   "cell_type": "code",
   "execution_count": 17,
   "id": "6195f65b",
   "metadata": {},
   "outputs": [
    {
     "data": {
      "text/plain": [
       "['Fault_Classification_tfidf_vectorizer.pkl']"
      ]
     },
     "execution_count": 17,
     "metadata": {},
     "output_type": "execute_result"
    }
   ],
   "source": [
    "import joblib\n",
    "# Save the trained model\n",
    "joblib.dump(model, 'Fault_Classification_Model.pkl')\n",
    "\n",
    "# Save the TfidfVectorizer. This is used to load with the model in the code.\n",
    "joblib.dump(tfidf_vectorizer, 'Fault_Classification_tfidf_vectorizer.pkl')"
   ]
  }
 ],
 "metadata": {
  "kernelspec": {
   "display_name": "Python 3 (ipykernel)",
   "language": "python",
   "name": "python3"
  },
  "language_info": {
   "codemirror_mode": {
    "name": "ipython",
    "version": 3
   },
   "file_extension": ".py",
   "mimetype": "text/x-python",
   "name": "python",
   "nbconvert_exporter": "python",
   "pygments_lexer": "ipython3",
   "version": "3.8.17"
  }
 },
 "nbformat": 4,
 "nbformat_minor": 5
}
